{
  "nbformat": 4,
  "nbformat_minor": 0,
  "metadata": {
    "colab": {
      "name": "18110251_9_CNN_T5.ipynb",
      "provenance": [],
      "toc_visible": true
    },
    "kernelspec": {
      "name": "python3",
      "display_name": "Python 3"
    },
    "language_info": {
      "name": "python"
    },
    "accelerator": "GPU"
  },
  "cells": [
    {
      "cell_type": "markdown",
      "metadata": {
        "id": "k4LhIJ7WUSgC"
      },
      "source": [
        "Lưu ý: Để train với GPU, chọn Runtime --> Change runtime type --> GPU"
      ]
    },
    {
      "cell_type": "markdown",
      "metadata": {
        "id": "wv7qwMikT5mo"
      },
      "source": [
        "## Bước 1: Kết nối với Google Drive"
      ]
    },
    {
      "cell_type": "markdown",
      "metadata": {
        "id": "I3tR3iOIUDld"
      },
      "source": [
        "Chọn mail có thư mục BreastDataset, copy link dán vào textbox\n"
      ]
    },
    {
      "cell_type": "code",
      "metadata": {
        "colab": {
          "base_uri": "https://localhost:8080/"
        },
        "id": "x31oYv2UTZw9",
        "outputId": "a94f9fd3-1758-4964-c5d7-cff14cf1a6a6"
      },
      "source": [
        "from google.colab import drive\n",
        "drive.mount('/content/drive')"
      ],
      "execution_count": null,
      "outputs": [
        {
          "output_type": "stream",
          "text": [
            "Mounted at /content/drive\n"
          ],
          "name": "stdout"
        }
      ]
    },
    {
      "cell_type": "markdown",
      "metadata": {
        "id": "lx9b9rkmUq_C"
      },
      "source": [
        "Di chuyển đến folder chứa thư mục BreastDataset"
      ]
    },
    {
      "cell_type": "code",
      "metadata": {
        "colab": {
          "base_uri": "https://localhost:8080/"
        },
        "id": "WGlmRRLwUyMU",
        "outputId": "2a555332-52df-4bfb-e549-ddbfd6c3af95"
      },
      "source": [
        "%cd /content/drive/MyDrive\n",
        "!ls"
      ],
      "execution_count": null,
      "outputs": [
        {
          "output_type": "stream",
          "text": [
            "/content/drive/MyDrive\n",
            " 18110251_LeNguyenGiaBao_BTT3.rar\n",
            " 1.png\n",
            " accuracy.png\n",
            " BreastDataset\n",
            " breast_dataset_VGG16.h5\n",
            " breast_VGG16_2.h5\n",
            " breast_VGG16_3.h5\n",
            " breast_VGG16.h5\n",
            " Classroom\n",
            "'Colab Notebooks'\n",
            " LapTrinhWindow_DoAn01_BaiGiuXe_Nhom13\n",
            " loss.png\n",
            " Screenshot_2021-01-28-02-34-35-86_1c99860bf4b61b843a1056471ba010e4.png\n",
            " Video_2020-04-23_130000.mp4\n",
            " Web\n"
          ],
          "name": "stdout"
        }
      ]
    },
    {
      "cell_type": "markdown",
      "metadata": {
        "id": "lVc3pQWEU4zf"
      },
      "source": [
        "## Bước 2: Import thư viện"
      ]
    },
    {
      "cell_type": "code",
      "metadata": {
        "id": "K7jKcBAiU1Vs"
      },
      "source": [
        "# ignore warning \n",
        "import os\n",
        "os.environ['TF_CPP_MIN_LOG_LEVEL'] = '3'\n",
        "\n",
        "from keras.preprocessing.image import ImageDataGenerator\n",
        "from keras.applications import VGG16\n",
        "from keras.layers import MaxPooling2D\n",
        "from keras.layers import Dropout\n",
        "from keras.layers import Flatten\n",
        "from keras.layers import Dense\n",
        "from keras.layers import Input\n",
        "from keras.models import Model\n",
        "from keras.optimizers import Adam\n",
        "from keras.utils import to_categorical\n",
        "from keras.callbacks import ModelCheckpoint\n",
        "from sklearn.model_selection import train_test_split\n",
        "import matplotlib.pyplot as plt\n",
        "import glob\n",
        "import numpy as np\n",
        "import cv2"
      ],
      "execution_count": null,
      "outputs": []
    },
    {
      "cell_type": "markdown",
      "metadata": {
        "id": "RuUmm2dwVh5Q"
      },
      "source": [
        "## Bước 3: Xử lý dữ liệu\n"
      ]
    },
    {
      "cell_type": "markdown",
      "metadata": {
        "id": "tFUBBcH7Vn6n"
      },
      "source": [
        "Khai báo đường dẫn thư mục dataset"
      ]
    },
    {
      "cell_type": "code",
      "metadata": {
        "id": "XMndYZE4VciI"
      },
      "source": [
        "dataset_paths = glob.glob(\"/content/drive/MyDrive/BreastDataset/**/*.tif\")"
      ],
      "execution_count": null,
      "outputs": []
    },
    {
      "cell_type": "code",
      "metadata": {
        "id": "fuaacdX4Vuvl"
      },
      "source": [
        "X=[]\n",
        "labels=[]\n",
        "classes = ['Benign', 'InSitu', 'Invasive', 'Normal']\n",
        "\n",
        "for image_path in dataset_paths:\n",
        "  label = image_path.split(os.path.sep)[-2] # lấy tên folder chứa ảnh làm label\n",
        "  label = classes.index(label)\n",
        "  labels.append(label)\n",
        "\n",
        "  img = cv2.imread(image_path)  \n",
        "  img = cv2.resize(img, (300, 300))   \n",
        "  image = np.array(img)\n",
        "  X.append(image)\n",
        "\n",
        "X = np.array(X,dtype=\"float16\")\n",
        "labels = np.array(labels)\n",
        "\n",
        "y = to_categorical(labels)"
      ],
      "execution_count": null,
      "outputs": []
    },
    {
      "cell_type": "markdown",
      "metadata": {
        "id": "BKguOQIHWhz1"
      },
      "source": [
        "Chia dữ liệu thành 3 tập: train, val, test"
      ]
    },
    {
      "cell_type": "code",
      "metadata": {
        "id": "0m7JqRqbWNsK"
      },
      "source": [
        "(train_val_X, test_X, train_val_Y, test_Y) = train_test_split(X, y, test_size=0.10, random_state=42)"
      ],
      "execution_count": null,
      "outputs": []
    },
    {
      "cell_type": "code",
      "metadata": {
        "id": "IiKoDW1aWxYy"
      },
      "source": [
        "(train_X, val_X, train_Y, val_Y) = train_test_split(train_val_X, train_val_Y, test_size=0.10, random_state=42)"
      ],
      "execution_count": null,
      "outputs": []
    },
    {
      "cell_type": "markdown",
      "metadata": {
        "id": "UBceMIqxW9sE"
      },
      "source": [
        "## Bước 4: Chuẩn bị model VGG16 và các thông số config liên quan"
      ]
    },
    {
      "cell_type": "markdown",
      "metadata": {
        "id": "h9aYntA3XGj7"
      },
      "source": [
        "Tạo biến ImageDataGenerator"
      ]
    },
    {
      "cell_type": "code",
      "metadata": {
        "id": "kQjQPEwlW4lX"
      },
      "source": [
        "image_gen = ImageDataGenerator(rotation_range=10,\n",
        "                              width_shift_range=0.1,\n",
        "                              height_shift_range=0.1,\n",
        "                              shear_range=0.1,\n",
        "                              zoom_range=0.1,\n",
        "                              fill_mode=\"nearest\"\n",
        "                              )"
      ],
      "execution_count": null,
      "outputs": []
    },
    {
      "cell_type": "markdown",
      "metadata": {
        "id": "al1InYCXYWua"
      },
      "source": [
        "Định nghĩa hàm tạo model"
      ]
    },
    {
      "cell_type": "code",
      "metadata": {
        "id": "zejl_R53XSTv"
      },
      "source": [
        "def create_model(lr=1e-4,decay=1e-4/25, training=False,output_shape=y.shape[1]):\n",
        "    vgg_model = VGG16(weights=\"imagenet\", \n",
        "                        include_top=False,\n",
        "                        input_tensor=Input(shape=(300, 300, 3)))\n",
        "\n",
        "    ann_model = vgg_model.output\n",
        "    ann_model = MaxPooling2D(pool_size=(3, 3))(ann_model)\n",
        "    ann_model = Flatten(name=\"flatten\")(ann_model)\n",
        "    ann_model = Dense(128, activation=\"relu\")(ann_model)\n",
        "    ann_model = Dropout(0.5)(ann_model)\n",
        "    ann_model = Dense(output_shape, activation=\"softmax\")(ann_model)\n",
        "    \n",
        "    model = Model(inputs=vgg_model.input, outputs=ann_model)\n",
        "    \n",
        "    if training:\n",
        "        for layer in vgg_model.layers:\n",
        "            layer.trainable = True\n",
        "            \n",
        "        optimizer = Adam(lr=lr, decay = decay)\n",
        "        model.compile(loss=\"categorical_crossentropy\", optimizer=optimizer,metrics=[\"accuracy\"])    \n",
        "        \n",
        "    return model"
      ],
      "execution_count": null,
      "outputs": []
    },
    {
      "cell_type": "markdown",
      "metadata": {
        "id": "8vwTKHOcY3wR"
      },
      "source": [
        "Khởi tạo các giá trị config"
      ]
    },
    {
      "cell_type": "code",
      "metadata": {
        "id": "PN_w_rN5YyCp"
      },
      "source": [
        "INIT_LR = 1e-4\n",
        "BATCH_SIZE = 64\n",
        "\n",
        "EPOCHS = 50"
      ],
      "execution_count": null,
      "outputs": []
    },
    {
      "cell_type": "markdown",
      "metadata": {
        "id": "ZU_pddhwZCxk"
      },
      "source": [
        "Tạo biến checkpoint"
      ]
    },
    {
      "cell_type": "code",
      "metadata": {
        "id": "4xGbwbwAY-a8"
      },
      "source": [
        "my_checkpointer = ModelCheckpoint(filepath=\"breast_dataset_VGG16_weight.h5\", verbose=1, save_weights_only=True)"
      ],
      "execution_count": null,
      "outputs": []
    },
    {
      "cell_type": "markdown",
      "metadata": {
        "id": "CFxupZ7GZL9C"
      },
      "source": [
        "Khởi tạo model VGG16"
      ]
    },
    {
      "cell_type": "code",
      "metadata": {
        "id": "w3DV9gNJZS55"
      },
      "source": [
        "model = create_model(lr=INIT_LR, decay=INIT_LR/EPOCHS,training=True)"
      ],
      "execution_count": null,
      "outputs": []
    },
    {
      "cell_type": "markdown",
      "metadata": {
        "id": "vfYVM9Vtakye"
      },
      "source": [
        "Kiến trúc của Model"
      ]
    },
    {
      "cell_type": "code",
      "metadata": {
        "colab": {
          "base_uri": "https://localhost:8080/"
        },
        "id": "A2iCjB_Qap6a",
        "outputId": "0ba563cf-eabe-450c-f2a9-0b8830ea64b9"
      },
      "source": [
        "model.summary()"
      ],
      "execution_count": null,
      "outputs": [
        {
          "output_type": "stream",
          "text": [
            "Model: \"model_3\"\n",
            "_________________________________________________________________\n",
            "Layer (type)                 Output Shape              Param #   \n",
            "=================================================================\n",
            "input_4 (InputLayer)         [(None, 300, 300, 3)]     0         \n",
            "_________________________________________________________________\n",
            "block1_conv1 (Conv2D)        (None, 300, 300, 64)      1792      \n",
            "_________________________________________________________________\n",
            "block1_conv2 (Conv2D)        (None, 300, 300, 64)      36928     \n",
            "_________________________________________________________________\n",
            "block1_pool (MaxPooling2D)   (None, 150, 150, 64)      0         \n",
            "_________________________________________________________________\n",
            "block2_conv1 (Conv2D)        (None, 150, 150, 128)     73856     \n",
            "_________________________________________________________________\n",
            "block2_conv2 (Conv2D)        (None, 150, 150, 128)     147584    \n",
            "_________________________________________________________________\n",
            "block2_pool (MaxPooling2D)   (None, 75, 75, 128)       0         \n",
            "_________________________________________________________________\n",
            "block3_conv1 (Conv2D)        (None, 75, 75, 256)       295168    \n",
            "_________________________________________________________________\n",
            "block3_conv2 (Conv2D)        (None, 75, 75, 256)       590080    \n",
            "_________________________________________________________________\n",
            "block3_conv3 (Conv2D)        (None, 75, 75, 256)       590080    \n",
            "_________________________________________________________________\n",
            "block3_pool (MaxPooling2D)   (None, 37, 37, 256)       0         \n",
            "_________________________________________________________________\n",
            "block4_conv1 (Conv2D)        (None, 37, 37, 512)       1180160   \n",
            "_________________________________________________________________\n",
            "block4_conv2 (Conv2D)        (None, 37, 37, 512)       2359808   \n",
            "_________________________________________________________________\n",
            "block4_conv3 (Conv2D)        (None, 37, 37, 512)       2359808   \n",
            "_________________________________________________________________\n",
            "block4_pool (MaxPooling2D)   (None, 18, 18, 512)       0         \n",
            "_________________________________________________________________\n",
            "block5_conv1 (Conv2D)        (None, 18, 18, 512)       2359808   \n",
            "_________________________________________________________________\n",
            "block5_conv2 (Conv2D)        (None, 18, 18, 512)       2359808   \n",
            "_________________________________________________________________\n",
            "block5_conv3 (Conv2D)        (None, 18, 18, 512)       2359808   \n",
            "_________________________________________________________________\n",
            "block5_pool (MaxPooling2D)   (None, 9, 9, 512)         0         \n",
            "_________________________________________________________________\n",
            "max_pooling2d_3 (MaxPooling2 (None, 3, 3, 512)         0         \n",
            "_________________________________________________________________\n",
            "flatten (Flatten)            (None, 4608)              0         \n",
            "_________________________________________________________________\n",
            "dense_6 (Dense)              (None, 128)               589952    \n",
            "_________________________________________________________________\n",
            "dropout_3 (Dropout)          (None, 128)               0         \n",
            "_________________________________________________________________\n",
            "dense_7 (Dense)              (None, 4)                 516       \n",
            "=================================================================\n",
            "Total params: 15,305,156\n",
            "Trainable params: 15,305,156\n",
            "Non-trainable params: 0\n",
            "_________________________________________________________________\n"
          ],
          "name": "stdout"
        }
      ]
    },
    {
      "cell_type": "markdown",
      "metadata": {
        "id": "s_KUji30aGQH"
      },
      "source": [
        "## Bước 5: Train model VGG16"
      ]
    },
    {
      "cell_type": "markdown",
      "metadata": {
        "id": "LQwWxxQdZiam"
      },
      "source": [
        "Epoch: 50\n",
        "\n",
        "Batch_size = 64"
      ]
    },
    {
      "cell_type": "code",
      "metadata": {
        "colab": {
          "base_uri": "https://localhost:8080/"
        },
        "id": "0IHja3sEZaNX",
        "outputId": "b68b1e42-fe81-40be-8d75-8c989b9fdc67"
      },
      "source": [
        "result = model.fit(image_gen.flow(train_X, train_Y, batch_size=BATCH_SIZE), \n",
        "                   steps_per_epoch=len(train_X) // BATCH_SIZE, \n",
        "                   validation_data=(val_X, val_Y), \n",
        "                   validation_steps=len(val_X) // BATCH_SIZE, \n",
        "                   epochs=EPOCHS, callbacks=my_checkpointer)"
      ],
      "execution_count": null,
      "outputs": [
        {
          "output_type": "stream",
          "text": [
            "Epoch 1/50\n",
            "20/20 [==============================] - 38s 2s/step - loss: 7.5893 - accuracy: 0.2383 - val_loss: 1.4064 - val_accuracy: 0.2671\n",
            "\n",
            "Epoch 00001: saving model to breast_dataset_VGG16_weight.h5\n",
            "Epoch 2/50\n",
            "20/20 [==============================] - 36s 2s/step - loss: 1.3987 - accuracy: 0.2791 - val_loss: 1.3671 - val_accuracy: 0.3082\n",
            "\n",
            "Epoch 00002: saving model to breast_dataset_VGG16_weight.h5\n",
            "Epoch 3/50\n",
            "20/20 [==============================] - 36s 2s/step - loss: 1.3895 - accuracy: 0.2797 - val_loss: 1.3635 - val_accuracy: 0.2877\n",
            "\n",
            "Epoch 00003: saving model to breast_dataset_VGG16_weight.h5\n",
            "Epoch 4/50\n",
            "20/20 [==============================] - 36s 2s/step - loss: 1.3709 - accuracy: 0.3048 - val_loss: 1.3126 - val_accuracy: 0.3973\n",
            "\n",
            "Epoch 00004: saving model to breast_dataset_VGG16_weight.h5\n",
            "Epoch 5/50\n",
            "20/20 [==============================] - 36s 2s/step - loss: 1.3363 - accuracy: 0.3528 - val_loss: 1.2793 - val_accuracy: 0.4041\n",
            "\n",
            "Epoch 00005: saving model to breast_dataset_VGG16_weight.h5\n",
            "Epoch 6/50\n",
            "20/20 [==============================] - 36s 2s/step - loss: 1.3076 - accuracy: 0.3525 - val_loss: 1.1656 - val_accuracy: 0.4795\n",
            "\n",
            "Epoch 00006: saving model to breast_dataset_VGG16_weight.h5\n",
            "Epoch 7/50\n",
            "20/20 [==============================] - 36s 2s/step - loss: 1.2072 - accuracy: 0.4453 - val_loss: 1.1023 - val_accuracy: 0.5479\n",
            "\n",
            "Epoch 00007: saving model to breast_dataset_VGG16_weight.h5\n",
            "Epoch 8/50\n",
            "20/20 [==============================] - 36s 2s/step - loss: 1.1269 - accuracy: 0.4635 - val_loss: 0.9829 - val_accuracy: 0.5959\n",
            "\n",
            "Epoch 00008: saving model to breast_dataset_VGG16_weight.h5\n",
            "Epoch 9/50\n",
            "20/20 [==============================] - 35s 2s/step - loss: 1.1463 - accuracy: 0.4763 - val_loss: 1.0539 - val_accuracy: 0.4863\n",
            "\n",
            "Epoch 00009: saving model to breast_dataset_VGG16_weight.h5\n",
            "Epoch 10/50\n",
            "20/20 [==============================] - 36s 2s/step - loss: 1.1275 - accuracy: 0.4702 - val_loss: 1.1591 - val_accuracy: 0.4726\n",
            "\n",
            "Epoch 00010: saving model to breast_dataset_VGG16_weight.h5\n",
            "Epoch 11/50\n",
            "20/20 [==============================] - 36s 2s/step - loss: 1.1634 - accuracy: 0.4378 - val_loss: 1.1473 - val_accuracy: 0.4863\n",
            "\n",
            "Epoch 00011: saving model to breast_dataset_VGG16_weight.h5\n",
            "Epoch 12/50\n",
            "20/20 [==============================] - 36s 2s/step - loss: 1.1191 - accuracy: 0.4625 - val_loss: 1.0593 - val_accuracy: 0.5616\n",
            "\n",
            "Epoch 00012: saving model to breast_dataset_VGG16_weight.h5\n",
            "Epoch 13/50\n",
            "20/20 [==============================] - 36s 2s/step - loss: 1.0867 - accuracy: 0.5142 - val_loss: 1.0223 - val_accuracy: 0.5616\n",
            "\n",
            "Epoch 00013: saving model to breast_dataset_VGG16_weight.h5\n",
            "Epoch 14/50\n",
            "20/20 [==============================] - 36s 2s/step - loss: 1.0987 - accuracy: 0.5011 - val_loss: 1.1081 - val_accuracy: 0.4384\n",
            "\n",
            "Epoch 00014: saving model to breast_dataset_VGG16_weight.h5\n",
            "Epoch 15/50\n",
            "20/20 [==============================] - 36s 2s/step - loss: 1.0146 - accuracy: 0.5220 - val_loss: 1.0070 - val_accuracy: 0.5753\n",
            "\n",
            "Epoch 00015: saving model to breast_dataset_VGG16_weight.h5\n",
            "Epoch 16/50\n",
            "20/20 [==============================] - 36s 2s/step - loss: 1.0188 - accuracy: 0.5504 - val_loss: 0.9038 - val_accuracy: 0.5959\n",
            "\n",
            "Epoch 00016: saving model to breast_dataset_VGG16_weight.h5\n",
            "Epoch 17/50\n",
            "20/20 [==============================] - 36s 2s/step - loss: 0.9597 - accuracy: 0.5711 - val_loss: 0.9479 - val_accuracy: 0.5685\n",
            "\n",
            "Epoch 00017: saving model to breast_dataset_VGG16_weight.h5\n",
            "Epoch 18/50\n",
            "20/20 [==============================] - 36s 2s/step - loss: 0.9159 - accuracy: 0.5892 - val_loss: 0.9333 - val_accuracy: 0.5685\n",
            "\n",
            "Epoch 00018: saving model to breast_dataset_VGG16_weight.h5\n",
            "Epoch 19/50\n",
            "20/20 [==============================] - 36s 2s/step - loss: 0.9205 - accuracy: 0.6181 - val_loss: 1.0015 - val_accuracy: 0.5548\n",
            "\n",
            "Epoch 00019: saving model to breast_dataset_VGG16_weight.h5\n",
            "Epoch 20/50\n",
            "20/20 [==============================] - 36s 2s/step - loss: 0.8627 - accuracy: 0.6317 - val_loss: 0.7790 - val_accuracy: 0.6164\n",
            "\n",
            "Epoch 00020: saving model to breast_dataset_VGG16_weight.h5\n",
            "Epoch 21/50\n",
            "20/20 [==============================] - 36s 2s/step - loss: 0.8105 - accuracy: 0.6587 - val_loss: 0.9266 - val_accuracy: 0.6164\n",
            "\n",
            "Epoch 00021: saving model to breast_dataset_VGG16_weight.h5\n",
            "Epoch 22/50\n",
            "20/20 [==============================] - 36s 2s/step - loss: 0.8772 - accuracy: 0.6423 - val_loss: 0.7491 - val_accuracy: 0.6644\n",
            "\n",
            "Epoch 00022: saving model to breast_dataset_VGG16_weight.h5\n",
            "Epoch 23/50\n",
            "20/20 [==============================] - 36s 2s/step - loss: 0.8358 - accuracy: 0.6678 - val_loss: 0.7384 - val_accuracy: 0.7192\n",
            "\n",
            "Epoch 00023: saving model to breast_dataset_VGG16_weight.h5\n",
            "Epoch 24/50\n",
            "20/20 [==============================] - 36s 2s/step - loss: 0.7498 - accuracy: 0.6754 - val_loss: 0.9129 - val_accuracy: 0.5822\n",
            "\n",
            "Epoch 00024: saving model to breast_dataset_VGG16_weight.h5\n",
            "Epoch 25/50\n",
            "20/20 [==============================] - 36s 2s/step - loss: 0.8224 - accuracy: 0.6524 - val_loss: 0.7072 - val_accuracy: 0.6918\n",
            "\n",
            "Epoch 00025: saving model to breast_dataset_VGG16_weight.h5\n",
            "Epoch 26/50\n",
            "20/20 [==============================] - 35s 2s/step - loss: 0.7215 - accuracy: 0.7218 - val_loss: 0.8442 - val_accuracy: 0.6438\n",
            "\n",
            "Epoch 00026: saving model to breast_dataset_VGG16_weight.h5\n",
            "Epoch 27/50\n",
            "20/20 [==============================] - 36s 2s/step - loss: 0.7734 - accuracy: 0.6957 - val_loss: 0.7358 - val_accuracy: 0.7055\n",
            "\n",
            "Epoch 00027: saving model to breast_dataset_VGG16_weight.h5\n",
            "Epoch 28/50\n",
            "20/20 [==============================] - 36s 2s/step - loss: 0.6596 - accuracy: 0.7685 - val_loss: 0.7285 - val_accuracy: 0.7123\n",
            "\n",
            "Epoch 00028: saving model to breast_dataset_VGG16_weight.h5\n",
            "Epoch 29/50\n",
            "20/20 [==============================] - 36s 2s/step - loss: 0.7983 - accuracy: 0.6691 - val_loss: 0.6450 - val_accuracy: 0.7671\n",
            "\n",
            "Epoch 00029: saving model to breast_dataset_VGG16_weight.h5\n",
            "Epoch 30/50\n",
            "20/20 [==============================] - 36s 2s/step - loss: 0.6923 - accuracy: 0.7437 - val_loss: 0.5362 - val_accuracy: 0.7671\n",
            "\n",
            "Epoch 00030: saving model to breast_dataset_VGG16_weight.h5\n",
            "Epoch 31/50\n",
            "20/20 [==============================] - 36s 2s/step - loss: 0.5853 - accuracy: 0.7690 - val_loss: 0.7421 - val_accuracy: 0.6781\n",
            "\n",
            "Epoch 00031: saving model to breast_dataset_VGG16_weight.h5\n",
            "Epoch 32/50\n",
            "20/20 [==============================] - 36s 2s/step - loss: 0.5751 - accuracy: 0.7831 - val_loss: 0.6584 - val_accuracy: 0.6986\n",
            "\n",
            "Epoch 00032: saving model to breast_dataset_VGG16_weight.h5\n",
            "Epoch 33/50\n",
            "20/20 [==============================] - 36s 2s/step - loss: 0.5854 - accuracy: 0.7760 - val_loss: 0.7155 - val_accuracy: 0.7192\n",
            "\n",
            "Epoch 00033: saving model to breast_dataset_VGG16_weight.h5\n",
            "Epoch 34/50\n",
            "20/20 [==============================] - 36s 2s/step - loss: 0.5111 - accuracy: 0.8074 - val_loss: 0.7188 - val_accuracy: 0.7534\n",
            "\n",
            "Epoch 00034: saving model to breast_dataset_VGG16_weight.h5\n",
            "Epoch 35/50\n",
            "20/20 [==============================] - 35s 2s/step - loss: 0.5230 - accuracy: 0.8182 - val_loss: 0.5920 - val_accuracy: 0.7808\n",
            "\n",
            "Epoch 00035: saving model to breast_dataset_VGG16_weight.h5\n",
            "Epoch 36/50\n",
            "20/20 [==============================] - 36s 2s/step - loss: 0.5137 - accuracy: 0.8151 - val_loss: 0.5502 - val_accuracy: 0.7671\n",
            "\n",
            "Epoch 00036: saving model to breast_dataset_VGG16_weight.h5\n",
            "Epoch 37/50\n",
            "20/20 [==============================] - 36s 2s/step - loss: 0.4113 - accuracy: 0.8358 - val_loss: 0.6615 - val_accuracy: 0.7397\n",
            "\n",
            "Epoch 00037: saving model to breast_dataset_VGG16_weight.h5\n",
            "Epoch 38/50\n",
            "20/20 [==============================] - 36s 2s/step - loss: 0.6251 - accuracy: 0.7649 - val_loss: 0.8618 - val_accuracy: 0.6370\n",
            "\n",
            "Epoch 00038: saving model to breast_dataset_VGG16_weight.h5\n",
            "Epoch 39/50\n",
            "20/20 [==============================] - 36s 2s/step - loss: 0.5462 - accuracy: 0.8025 - val_loss: 0.5984 - val_accuracy: 0.7603\n",
            "\n",
            "Epoch 00039: saving model to breast_dataset_VGG16_weight.h5\n",
            "Epoch 40/50\n",
            "20/20 [==============================] - 36s 2s/step - loss: 0.3639 - accuracy: 0.8742 - val_loss: 1.0443 - val_accuracy: 0.6849\n",
            "\n",
            "Epoch 00040: saving model to breast_dataset_VGG16_weight.h5\n",
            "Epoch 41/50\n",
            "20/20 [==============================] - 36s 2s/step - loss: 0.3839 - accuracy: 0.8628 - val_loss: 0.6247 - val_accuracy: 0.7877\n",
            "\n",
            "Epoch 00041: saving model to breast_dataset_VGG16_weight.h5\n",
            "Epoch 42/50\n",
            "20/20 [==============================] - 36s 2s/step - loss: 0.3360 - accuracy: 0.8813 - val_loss: 1.0448 - val_accuracy: 0.7055\n",
            "\n",
            "Epoch 00042: saving model to breast_dataset_VGG16_weight.h5\n",
            "Epoch 43/50\n",
            "20/20 [==============================] - 36s 2s/step - loss: 0.4830 - accuracy: 0.8318 - val_loss: 0.6295 - val_accuracy: 0.7534\n",
            "\n",
            "Epoch 00043: saving model to breast_dataset_VGG16_weight.h5\n",
            "Epoch 44/50\n",
            "20/20 [==============================] - 36s 2s/step - loss: 0.4335 - accuracy: 0.8479 - val_loss: 0.7865 - val_accuracy: 0.7329\n",
            "\n",
            "Epoch 00044: saving model to breast_dataset_VGG16_weight.h5\n",
            "Epoch 45/50\n",
            "20/20 [==============================] - 36s 2s/step - loss: 0.2941 - accuracy: 0.8842 - val_loss: 0.5350 - val_accuracy: 0.8288\n",
            "\n",
            "Epoch 00045: saving model to breast_dataset_VGG16_weight.h5\n",
            "Epoch 46/50\n",
            "20/20 [==============================] - 36s 2s/step - loss: 0.2330 - accuracy: 0.9207 - val_loss: 1.0071 - val_accuracy: 0.6918\n",
            "\n",
            "Epoch 00046: saving model to breast_dataset_VGG16_weight.h5\n",
            "Epoch 47/50\n",
            "20/20 [==============================] - 36s 2s/step - loss: 0.2844 - accuracy: 0.9100 - val_loss: 0.5366 - val_accuracy: 0.7740\n",
            "\n",
            "Epoch 00047: saving model to breast_dataset_VGG16_weight.h5\n",
            "Epoch 48/50\n",
            "20/20 [==============================] - 36s 2s/step - loss: 0.2685 - accuracy: 0.9187 - val_loss: 0.4991 - val_accuracy: 0.8219\n",
            "\n",
            "Epoch 00048: saving model to breast_dataset_VGG16_weight.h5\n",
            "Epoch 49/50\n",
            "20/20 [==============================] - 36s 2s/step - loss: 0.3326 - accuracy: 0.8881 - val_loss: 0.6988 - val_accuracy: 0.7740\n",
            "\n",
            "Epoch 00049: saving model to breast_dataset_VGG16_weight.h5\n",
            "Epoch 50/50\n",
            "20/20 [==============================] - 36s 2s/step - loss: 0.2353 - accuracy: 0.9138 - val_loss: 0.4713 - val_accuracy: 0.8288\n",
            "\n",
            "Epoch 00050: saving model to breast_dataset_VGG16_weight.h5\n"
          ],
          "name": "stdout"
        }
      ]
    },
    {
      "cell_type": "markdown",
      "metadata": {
        "id": "9zY1PeYxaPQo"
      },
      "source": [
        "Biểu đồ Accuracy"
      ]
    },
    {
      "cell_type": "code",
      "metadata": {
        "id": "1u9ledaCbdkf",
        "colab": {
          "base_uri": "https://localhost:8080/",
          "height": 295
        },
        "outputId": "790c785d-a6a8-4cda-e66c-7a11fcfd165e"
      },
      "source": [
        "plt.plot(result.history['accuracy'])\n",
        "plt.plot(result.history['val_accuracy'])\n",
        "plt.title('model accuracy')\n",
        "plt.ylabel('accuracy')\n",
        "plt.xlabel('epoch')\n",
        "plt.legend(['train', 'test'], loc='upper left')\n",
        "plt.savefig('accuracy.png')\n",
        "plt.show()"
      ],
      "execution_count": null,
      "outputs": [
        {
          "output_type": "display_data",
          "data": {
            "image/png": "[encoded data removed]",
            "text/plain": [
              "<Figure size 432x288 with 1 Axes>"
            ]
          },
          "metadata": {
            "tags": [],
            "needs_background": "light"
          }
        }
      ]
    },
    {
      "cell_type": "markdown",
      "metadata": {
        "id": "CrViDAnrbAPb"
      },
      "source": [
        "Biểu đồ Loss"
      ]
    },
    {
      "cell_type": "code",
      "metadata": {
        "id": "m4LAXM9TbBnH",
        "colab": {
          "base_uri": "https://localhost:8080/",
          "height": 295
        },
        "outputId": "6da9050f-f3b4-4244-b3d0-e75ae7254507"
      },
      "source": [
        "plt.plot(result.history['loss'])\n",
        "plt.plot(result.history['val_loss'])\n",
        "plt.title('model loss')\n",
        "plt.ylabel('loss')\n",
        "plt.xlabel('epoch')\n",
        "plt.legend(['train', 'test'], loc='upper left')\n",
        "plt.savefig('loss.png')\n",
        "plt.show()"
      ],
      "execution_count": null,
      "outputs": [
        {
          "output_type": "display_data",
          "data": {
            "image/png": "[encoded data removed]",
            "text/plain": [
              "<Figure size 432x288 with 1 Axes>"
            ]
          },
          "metadata": {
            "tags": [],
            "needs_background": "light"
          }
        }
      ]
    },
    {
      "cell_type": "markdown",
      "metadata": {
        "id": "Fli9VIBm0hfo"
      },
      "source": [
        "## Bước 6: Thực nghiệm với tập test"
      ]
    },
    {
      "cell_type": "code",
      "metadata": {
        "colab": {
          "base_uri": "https://localhost:8080/"
        },
        "id": "067vWia908zv",
        "outputId": "ba3172b4-b3c2-468d-ef74-eb0fd9f3bd97"
      },
      "source": [
        "count = 0\n",
        "for i in range(len(test_X)):\n",
        "  x_test = test_X[i]\n",
        "  x_test = np.expand_dims(x_test, axis=0)\n",
        "\n",
        "  y_test = test_Y[i]\n",
        "  y_predict = np.argmax(model.predict(x_test))\n",
        "  y_test = np.argmax(y_test)\n",
        "  if y_test != y_predict:\n",
        "    # print(y_test, y_predict)\n",
        "    count +=1\n",
        "print('Sai: ', count,'/', len(test_X))"
      ],
      "execution_count": null,
      "outputs": [
        {
          "output_type": "stream",
          "text": [
            "Sai:  36 / 163\n"
          ],
          "name": "stdout"
        }
      ]
    }
  ]
}